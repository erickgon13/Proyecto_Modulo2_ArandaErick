{
 "cells": [
  {
   "attachments": {},
   "cell_type": "markdown",
   "metadata": {},
   "source": [
    "# Obtención de áreas con ajuste de curvas para Oxigeno 1s, para análisis elemental de materiales."
   ]
  },
  {
   "cell_type": "markdown",
   "metadata": {},
   "source": [
    "## Antecedentes:\n",
    "* En el proyecto anterior se realizo un ajuste polinomico a diferentes datos de elementos."
   ]
  },
  {
   "attachments": {},
   "cell_type": "markdown",
   "metadata": {},
   "source": [
    "## Objetivos:\n",
    "\n",
    "### Objetivos Generales:\n",
    "* Continuar con el proyecto anterior realizando un mejor ajuste de curva polinómico a un conjunto de datos obtenidos por medio de espectroscopia de fotoemisión de rayos x, con un nuevo método de optimización y calcular el área bajo la curva para en un posterior momento obtener el porcentaje atómico de la muestra analizada.\n",
    "\n",
    "### Objetivos Especificos:\n",
    "* Importar correctamente los datos a ajustar.\n",
    "* Ajustar los datos a polinomios a una nueva funcion polinomica.\n",
    "* Encontrar una funcion de tercer orden para cada secccion a ajustar.\n",
    "* Encontrar una funcion que pase por debajo de la curva con el objetivo de     encontrar por medio de resta de funciones, el area mas proximas bajo la       curva.\n",
    "* Dividir la curva en tres secciones para obtener un area total con poca tasa   de error.\n",
    "* Encontrar el Area bajo la curva de cada seccion.\n",
    "* Sumar las areas seccionadas para obtener el Area total."
   ]
  },
  {
   "cell_type": "code",
   "execution_count": 1,
   "metadata": {},
   "outputs": [
    {
     "data": {
      "text/latex": [
       "$$x$$"
      ],
      "text/plain": [
       "x"
      ]
     },
     "execution_count": 1,
     "metadata": {},
     "output_type": "execute_result"
    }
   ],
   "source": [
    "from scipy.optimize import curve_fit \n",
    "import sympy as sp\n",
    "import numpy as np \n",
    "import quandl\n",
    "import matplotlib.pyplot as plt\n",
    "import pandas as pd\n",
    "import scipy.optimize as opt\n",
    "sp.init_printing(use_latex='mathjax')\n",
    "sp.var('x', real=True)"
   ]
  },
  {
   "cell_type": "code",
   "execution_count": 2,
   "metadata": {},
   "outputs": [
    {
     "data": {
      "text/html": [
       "<div>\n",
       "<style scoped>\n",
       "    .dataframe tbody tr th:only-of-type {\n",
       "        vertical-align: middle;\n",
       "    }\n",
       "\n",
       "    .dataframe tbody tr th {\n",
       "        vertical-align: top;\n",
       "    }\n",
       "\n",
       "    .dataframe thead th {\n",
       "        text-align: right;\n",
       "    }\n",
       "</style>\n",
       "<table border=\"1\" class=\"dataframe\">\n",
       "  <thead>\n",
       "    <tr style=\"text-align: right;\">\n",
       "      <th></th>\n",
       "      <th>Energy</th>\n",
       "      <th>Counts/s</th>\n",
       "    </tr>\n",
       "  </thead>\n",
       "  <tbody>\n",
       "    <tr>\n",
       "      <th>0</th>\n",
       "      <td>540.0</td>\n",
       "      <td>5385.6327</td>\n",
       "    </tr>\n",
       "    <tr>\n",
       "      <th>1</th>\n",
       "      <td>539.9</td>\n",
       "      <td>5377.0126</td>\n",
       "    </tr>\n",
       "    <tr>\n",
       "      <th>2</th>\n",
       "      <td>539.8</td>\n",
       "      <td>5445.4113</td>\n",
       "    </tr>\n",
       "    <tr>\n",
       "      <th>3</th>\n",
       "      <td>539.7</td>\n",
       "      <td>5378.0184</td>\n",
       "    </tr>\n",
       "    <tr>\n",
       "      <th>4</th>\n",
       "      <td>539.6</td>\n",
       "      <td>5371.6017</td>\n",
       "    </tr>\n",
       "    <tr>\n",
       "      <th>5</th>\n",
       "      <td>539.5</td>\n",
       "      <td>5441.8836</td>\n",
       "    </tr>\n",
       "    <tr>\n",
       "      <th>6</th>\n",
       "      <td>539.4</td>\n",
       "      <td>5382.8602</td>\n",
       "    </tr>\n",
       "    <tr>\n",
       "      <th>7</th>\n",
       "      <td>539.3</td>\n",
       "      <td>5341.9636</td>\n",
       "    </tr>\n",
       "    <tr>\n",
       "      <th>8</th>\n",
       "      <td>539.2</td>\n",
       "      <td>5305.2001</td>\n",
       "    </tr>\n",
       "    <tr>\n",
       "      <th>9</th>\n",
       "      <td>539.1</td>\n",
       "      <td>5411.0367</td>\n",
       "    </tr>\n",
       "    <tr>\n",
       "      <th>10</th>\n",
       "      <td>539.0</td>\n",
       "      <td>5405.8009</td>\n",
       "    </tr>\n",
       "    <tr>\n",
       "      <th>11</th>\n",
       "      <td>538.9</td>\n",
       "      <td>5205.8801</td>\n",
       "    </tr>\n",
       "    <tr>\n",
       "      <th>12</th>\n",
       "      <td>538.8</td>\n",
       "      <td>5257.7194</td>\n",
       "    </tr>\n",
       "    <tr>\n",
       "      <th>13</th>\n",
       "      <td>538.7</td>\n",
       "      <td>5424.9313</td>\n",
       "    </tr>\n",
       "    <tr>\n",
       "      <th>14</th>\n",
       "      <td>538.6</td>\n",
       "      <td>5356.6749</td>\n",
       "    </tr>\n",
       "    <tr>\n",
       "      <th>15</th>\n",
       "      <td>538.5</td>\n",
       "      <td>5319.6907</td>\n",
       "    </tr>\n",
       "    <tr>\n",
       "      <th>16</th>\n",
       "      <td>538.4</td>\n",
       "      <td>5386.3369</td>\n",
       "    </tr>\n",
       "    <tr>\n",
       "      <th>17</th>\n",
       "      <td>538.3</td>\n",
       "      <td>5289.8173</td>\n",
       "    </tr>\n",
       "    <tr>\n",
       "      <th>18</th>\n",
       "      <td>538.2</td>\n",
       "      <td>5408.1613</td>\n",
       "    </tr>\n",
       "    <tr>\n",
       "      <th>19</th>\n",
       "      <td>538.1</td>\n",
       "      <td>5353.8157</td>\n",
       "    </tr>\n",
       "    <tr>\n",
       "      <th>20</th>\n",
       "      <td>538.0</td>\n",
       "      <td>5290.1643</td>\n",
       "    </tr>\n",
       "    <tr>\n",
       "      <th>21</th>\n",
       "      <td>537.9</td>\n",
       "      <td>5379.6805</td>\n",
       "    </tr>\n",
       "    <tr>\n",
       "      <th>22</th>\n",
       "      <td>537.8</td>\n",
       "      <td>5395.1154</td>\n",
       "    </tr>\n",
       "    <tr>\n",
       "      <th>23</th>\n",
       "      <td>537.7</td>\n",
       "      <td>5387.9291</td>\n",
       "    </tr>\n",
       "    <tr>\n",
       "      <th>24</th>\n",
       "      <td>537.6</td>\n",
       "      <td>5450.8820</td>\n",
       "    </tr>\n",
       "    <tr>\n",
       "      <th>25</th>\n",
       "      <td>537.5</td>\n",
       "      <td>5386.6655</td>\n",
       "    </tr>\n",
       "    <tr>\n",
       "      <th>26</th>\n",
       "      <td>537.4</td>\n",
       "      <td>5327.7465</td>\n",
       "    </tr>\n",
       "    <tr>\n",
       "      <th>27</th>\n",
       "      <td>537.3</td>\n",
       "      <td>5394.1580</td>\n",
       "    </tr>\n",
       "    <tr>\n",
       "      <th>28</th>\n",
       "      <td>537.2</td>\n",
       "      <td>5434.8966</td>\n",
       "    </tr>\n",
       "    <tr>\n",
       "      <th>29</th>\n",
       "      <td>537.1</td>\n",
       "      <td>5421.6808</td>\n",
       "    </tr>\n",
       "    <tr>\n",
       "      <th>...</th>\n",
       "      <td>...</td>\n",
       "      <td>...</td>\n",
       "    </tr>\n",
       "    <tr>\n",
       "      <th>131</th>\n",
       "      <td>526.9</td>\n",
       "      <td>5297.8268</td>\n",
       "    </tr>\n",
       "    <tr>\n",
       "      <th>132</th>\n",
       "      <td>526.8</td>\n",
       "      <td>5261.4465</td>\n",
       "    </tr>\n",
       "    <tr>\n",
       "      <th>133</th>\n",
       "      <td>526.7</td>\n",
       "      <td>5249.6187</td>\n",
       "    </tr>\n",
       "    <tr>\n",
       "      <th>134</th>\n",
       "      <td>526.6</td>\n",
       "      <td>5367.1506</td>\n",
       "    </tr>\n",
       "    <tr>\n",
       "      <th>135</th>\n",
       "      <td>526.5</td>\n",
       "      <td>5335.6958</td>\n",
       "    </tr>\n",
       "    <tr>\n",
       "      <th>136</th>\n",
       "      <td>526.4</td>\n",
       "      <td>5295.4851</td>\n",
       "    </tr>\n",
       "    <tr>\n",
       "      <th>137</th>\n",
       "      <td>526.3</td>\n",
       "      <td>5296.9449</td>\n",
       "    </tr>\n",
       "    <tr>\n",
       "      <th>138</th>\n",
       "      <td>526.2</td>\n",
       "      <td>5339.8272</td>\n",
       "    </tr>\n",
       "    <tr>\n",
       "      <th>139</th>\n",
       "      <td>526.1</td>\n",
       "      <td>5373.4157</td>\n",
       "    </tr>\n",
       "    <tr>\n",
       "      <th>140</th>\n",
       "      <td>526.0</td>\n",
       "      <td>5364.3095</td>\n",
       "    </tr>\n",
       "    <tr>\n",
       "      <th>141</th>\n",
       "      <td>525.9</td>\n",
       "      <td>5285.8852</td>\n",
       "    </tr>\n",
       "    <tr>\n",
       "      <th>142</th>\n",
       "      <td>525.8</td>\n",
       "      <td>5319.3419</td>\n",
       "    </tr>\n",
       "    <tr>\n",
       "      <th>143</th>\n",
       "      <td>525.7</td>\n",
       "      <td>5243.1615</td>\n",
       "    </tr>\n",
       "    <tr>\n",
       "      <th>144</th>\n",
       "      <td>525.6</td>\n",
       "      <td>5287.0559</td>\n",
       "    </tr>\n",
       "    <tr>\n",
       "      <th>145</th>\n",
       "      <td>525.5</td>\n",
       "      <td>5357.6367</td>\n",
       "    </tr>\n",
       "    <tr>\n",
       "      <th>146</th>\n",
       "      <td>525.4</td>\n",
       "      <td>5311.1407</td>\n",
       "    </tr>\n",
       "    <tr>\n",
       "      <th>147</th>\n",
       "      <td>525.3</td>\n",
       "      <td>5341.7109</td>\n",
       "    </tr>\n",
       "    <tr>\n",
       "      <th>148</th>\n",
       "      <td>525.2</td>\n",
       "      <td>5408.2132</td>\n",
       "    </tr>\n",
       "    <tr>\n",
       "      <th>149</th>\n",
       "      <td>525.1</td>\n",
       "      <td>5334.5541</td>\n",
       "    </tr>\n",
       "    <tr>\n",
       "      <th>150</th>\n",
       "      <td>525.0</td>\n",
       "      <td>5283.6567</td>\n",
       "    </tr>\n",
       "    <tr>\n",
       "      <th>151</th>\n",
       "      <td>524.9</td>\n",
       "      <td>5285.9132</td>\n",
       "    </tr>\n",
       "    <tr>\n",
       "      <th>152</th>\n",
       "      <td>524.8</td>\n",
       "      <td>5320.0378</td>\n",
       "    </tr>\n",
       "    <tr>\n",
       "      <th>153</th>\n",
       "      <td>524.7</td>\n",
       "      <td>5344.1958</td>\n",
       "    </tr>\n",
       "    <tr>\n",
       "      <th>154</th>\n",
       "      <td>524.6</td>\n",
       "      <td>5361.8617</td>\n",
       "    </tr>\n",
       "    <tr>\n",
       "      <th>155</th>\n",
       "      <td>524.5</td>\n",
       "      <td>5330.3347</td>\n",
       "    </tr>\n",
       "    <tr>\n",
       "      <th>156</th>\n",
       "      <td>524.4</td>\n",
       "      <td>5331.6371</td>\n",
       "    </tr>\n",
       "    <tr>\n",
       "      <th>157</th>\n",
       "      <td>524.3</td>\n",
       "      <td>5364.6991</td>\n",
       "    </tr>\n",
       "    <tr>\n",
       "      <th>158</th>\n",
       "      <td>524.2</td>\n",
       "      <td>5306.4743</td>\n",
       "    </tr>\n",
       "    <tr>\n",
       "      <th>159</th>\n",
       "      <td>524.1</td>\n",
       "      <td>5407.4567</td>\n",
       "    </tr>\n",
       "    <tr>\n",
       "      <th>160</th>\n",
       "      <td>524.0</td>\n",
       "      <td>5391.1568</td>\n",
       "    </tr>\n",
       "  </tbody>\n",
       "</table>\n",
       "<p>161 rows × 2 columns</p>\n",
       "</div>"
      ],
      "text/plain": [
       "     Energy   Counts/s\n",
       "0     540.0  5385.6327\n",
       "1     539.9  5377.0126\n",
       "2     539.8  5445.4113\n",
       "3     539.7  5378.0184\n",
       "4     539.6  5371.6017\n",
       "5     539.5  5441.8836\n",
       "6     539.4  5382.8602\n",
       "7     539.3  5341.9636\n",
       "8     539.2  5305.2001\n",
       "9     539.1  5411.0367\n",
       "10    539.0  5405.8009\n",
       "11    538.9  5205.8801\n",
       "12    538.8  5257.7194\n",
       "13    538.7  5424.9313\n",
       "14    538.6  5356.6749\n",
       "15    538.5  5319.6907\n",
       "16    538.4  5386.3369\n",
       "17    538.3  5289.8173\n",
       "18    538.2  5408.1613\n",
       "19    538.1  5353.8157\n",
       "20    538.0  5290.1643\n",
       "21    537.9  5379.6805\n",
       "22    537.8  5395.1154\n",
       "23    537.7  5387.9291\n",
       "24    537.6  5450.8820\n",
       "25    537.5  5386.6655\n",
       "26    537.4  5327.7465\n",
       "27    537.3  5394.1580\n",
       "28    537.2  5434.8966\n",
       "29    537.1  5421.6808\n",
       "..      ...        ...\n",
       "131   526.9  5297.8268\n",
       "132   526.8  5261.4465\n",
       "133   526.7  5249.6187\n",
       "134   526.6  5367.1506\n",
       "135   526.5  5335.6958\n",
       "136   526.4  5295.4851\n",
       "137   526.3  5296.9449\n",
       "138   526.2  5339.8272\n",
       "139   526.1  5373.4157\n",
       "140   526.0  5364.3095\n",
       "141   525.9  5285.8852\n",
       "142   525.8  5319.3419\n",
       "143   525.7  5243.1615\n",
       "144   525.6  5287.0559\n",
       "145   525.5  5357.6367\n",
       "146   525.4  5311.1407\n",
       "147   525.3  5341.7109\n",
       "148   525.2  5408.2132\n",
       "149   525.1  5334.5541\n",
       "150   525.0  5283.6567\n",
       "151   524.9  5285.9132\n",
       "152   524.8  5320.0378\n",
       "153   524.7  5344.1958\n",
       "154   524.6  5361.8617\n",
       "155   524.5  5330.3347\n",
       "156   524.4  5331.6371\n",
       "157   524.3  5364.6991\n",
       "158   524.2  5306.4743\n",
       "159   524.1  5407.4567\n",
       "160   524.0  5391.1568\n",
       "\n",
       "[161 rows x 2 columns]"
      ]
     },
     "execution_count": 2,
     "metadata": {},
     "output_type": "execute_result"
    }
   ],
   "source": [
    "dta = data = pd.read_csv('data_O1s.csv')\n",
    "dta"
   ]
  },
  {
   "cell_type": "code",
   "execution_count": 3,
   "metadata": {},
   "outputs": [
    {
     "data": {
      "image/png": "[encoded data removed]",
      "text/plain": [
       "<Figure size 864x720 with 1 Axes>"
      ]
     },
     "metadata": {
      "needs_background": "light"
     },
     "output_type": "display_data"
    }
   ],
   "source": [
    "plt.figure(figsize=(12,10))\n",
    "q = dta.values[:,0] #x\n",
    "w = dta.values[:,1] #y\n",
    "plt.plot(q, w, 'o', ms=3)\n",
    "def f_2(q):\n",
    "    return -0.34525625*q+5350\n",
    "plt.plot(q, f_2(q), '-', ms=3)\n",
    "plt.ylabel('Counts/s')\n",
    "plt.xlabel('Binding Energy(eV)')\n",
    "plt.grid()"
   ]
  },
  {
   "cell_type": "markdown",
   "metadata": {},
   "source": [
    "# Se divide la funcion en 3 partes para una mejor aproximacion y calculo de area."
   ]
  },
  {
   "cell_type": "markdown",
   "metadata": {},
   "source": [
    "# -------------------------------------------------------------------------"
   ]
  },
  {
   "cell_type": "markdown",
   "metadata": {},
   "source": [
    "# 1-Primera parte de la funcion"
   ]
  },
  {
   "cell_type": "code",
   "execution_count": 4,
   "metadata": {},
   "outputs": [
    {
     "data": {
      "text/latex": [
       "$$\\left ( 530.8, \\quad 5799.4053\\right )$$"
      ],
      "text/plain": [
       "(530.8, 5799.4053)"
      ]
     },
     "execution_count": 4,
     "metadata": {},
     "output_type": "execute_result"
    }
   ],
   "source": [
    "val1, val2=dta.values[92,0], dta.values[92,1]\n",
    "val1, val2"
   ]
  },
  {
   "cell_type": "code",
   "execution_count": 5,
   "metadata": {},
   "outputs": [
    {
     "data": {
      "text/latex": [
       "$$\\left ( 524.0, \\quad 5391.1568\\right )$$"
      ],
      "text/plain": [
       "(524.0, 5391.1568)"
      ]
     },
     "execution_count": 5,
     "metadata": {},
     "output_type": "execute_result"
    }
   ],
   "source": [
    "val3, val4=dta.values[160,0], dta.values[160,1]\n",
    "val3, val4"
   ]
  },
  {
   "cell_type": "code",
   "execution_count": 6,
   "metadata": {},
   "outputs": [
    {
     "data": {
      "image/png": "[encoded data removed]",
      "text/plain": [
       "<Figure size 1008x864 with 1 Axes>"
      ]
     },
     "metadata": {
      "needs_background": "light"
     },
     "output_type": "display_data"
    }
   ],
   "source": [
    "plt.figure(figsize=(14,12))\n",
    "ya = dta.values[92:,1] # El segundo valor dentro del corchete se queda fijo\n",
    "xa = dta.values[92:,0] # El rango de la funcion a integrar.\n",
    "plt.plot(xa, ya, 'o', label=\"Datos obtenidos-Primera Seccion\", ms=5)\n",
    "\n",
    "def f_2(xa): #x\n",
    "    return -0.34525625*xa+5350\n",
    "plt.plot(xa, f_2(xa), '-', ms=3)\n",
    "\n",
    "plt.ylabel('Counts/s')\n",
    "plt.xlabel('Binding Energy(eV)')\n",
    "plt.grid()\n",
    "\n",
    "def f1(xa, a, b, c, d):  # Esta funcion se puede ajustar \n",
    "    return a*xa**3 + b*xa**2 +c*xa + d \n",
    "\n",
    "popt, pcov = curve_fit(f1, xa, ya)\n",
    "\n",
    "\\\n",
    "xs = sp.Symbol('\\lambda')  \n",
    "tex = sp.latex(f1(xs,*popt)).replace('$', '') \n",
    "plt.title(r'$f(\\lambda)= %s$' %(tex),fontsize=16)\n",
    "\n",
    "plt.plot(xa, f1(xa, *popt))\n",
    "plt.plot(xa, popt[0]*xa**3 + popt[1]*xa**2 + popt[2]*xa + popt[3], label=\"Curva ajustada\")\n",
    "\n",
    "plt.legend(loc='upper left') \n",
    "plt.show()\n",
    "\n",
    "#   Al tener datos dijos que no son variables, la funcion que se creo a partir de estos datos, tambien son fijos\n",
    "#   por lo tanto la funcion no cambiara, a menos que los datos cambien."
   ]
  },
  {
   "cell_type": "code",
   "execution_count": 7,
   "metadata": {},
   "outputs": [],
   "source": [
    "import matplotlib.pyplot as plt\n",
    "import numpy as np\n",
    "import pandas as pd"
   ]
  },
  {
   "cell_type": "code",
   "execution_count": 8,
   "metadata": {},
   "outputs": [],
   "source": [
    "def montecarlo1(f1_montecarlo ,aa, bb, N): #aa, bb\n",
    "    u=(bb-aa)*np.random.rand(N)+aa\n",
    "    return (bb-aa)*np.mean(f1_montecarlo(u))"
   ]
  },
  {
   "cell_type": "code",
   "execution_count": 9,
   "metadata": {},
   "outputs": [],
   "source": [
    "def f1_montecarlo(xm1): \n",
    "    return ((5.97374618528811*xm1**3) - (9432.18109414813*xm1**2) + (4964247.61745743*xm1) - (870899474.677395) + 0.34525625*xm1 - 5350)\n",
    "aa, bb = 524, 530.8\n",
    "N = 100000\n",
    "H = montecarlo1(f1_montecarlo,aa,bb,N)"
   ]
  },
  {
   "cell_type": "code",
   "execution_count": 10,
   "metadata": {},
   "outputs": [],
   "source": [
    "aa, bb = 524, 530.8\n",
    "N = np.logspace(1, 7, 7)"
   ]
  },
  {
   "cell_type": "code",
   "execution_count": 11,
   "metadata": {},
   "outputs": [
    {
     "data": {
      "text/html": [
       "<div>\n",
       "<style scoped>\n",
       "    .dataframe tbody tr th:only-of-type {\n",
       "        vertical-align: middle;\n",
       "    }\n",
       "\n",
       "    .dataframe tbody tr th {\n",
       "        vertical-align: top;\n",
       "    }\n",
       "\n",
       "    .dataframe thead th {\n",
       "        text-align: right;\n",
       "    }\n",
       "</style>\n",
       "<table border=\"1\" class=\"dataframe\">\n",
       "  <thead>\n",
       "    <tr style=\"text-align: right;\">\n",
       "      <th></th>\n",
       "      <th>Valor de Integrales</th>\n",
       "    </tr>\n",
       "  </thead>\n",
       "  <tbody>\n",
       "    <tr>\n",
       "      <th>10.0</th>\n",
       "      <td>1465.1</td>\n",
       "    </tr>\n",
       "    <tr>\n",
       "      <th>100.0</th>\n",
       "      <td>1471.86</td>\n",
       "    </tr>\n",
       "    <tr>\n",
       "      <th>1000.0</th>\n",
       "      <td>1402.81</td>\n",
       "    </tr>\n",
       "    <tr>\n",
       "      <th>10000.0</th>\n",
       "      <td>1392.37</td>\n",
       "    </tr>\n",
       "    <tr>\n",
       "      <th>100000.0</th>\n",
       "      <td>1378.83</td>\n",
       "    </tr>\n",
       "    <tr>\n",
       "      <th>1000000.0</th>\n",
       "      <td>1380.25</td>\n",
       "    </tr>\n",
       "    <tr>\n",
       "      <th>10000000.0</th>\n",
       "      <td>1378.95</td>\n",
       "    </tr>\n",
       "  </tbody>\n",
       "</table>\n",
       "</div>"
      ],
      "text/plain": [
       "           Valor de Integrales\n",
       "10.0                    1465.1\n",
       "100.0                  1471.86\n",
       "1000.0                 1402.81\n",
       "10000.0                1392.37\n",
       "100000.0               1378.83\n",
       "1000000.0              1380.25\n",
       "10000000.0             1378.95"
      ]
     },
     "execution_count": 11,
     "metadata": {},
     "output_type": "execute_result"
    }
   ],
   "source": [
    "\n",
    "tabla1 = pd.DataFrame(index = N, columns=['Valor de Integrales'])\n",
    "\n",
    "for n in N:\n",
    "    tabla1.loc[n,'Valor de Integrales'] = montecarlo1(f1_montecarlo, aa, bb, n.astype(int))\n",
    "tabla1"
   ]
  },
  {
   "cell_type": "code",
   "execution_count": 12,
   "metadata": {},
   "outputs": [
    {
     "data": {
      "text/latex": [
       "$$1378.9483752392564$$"
      ],
      "text/plain": [
       "1378.9483752392564"
      ]
     },
     "execution_count": 12,
     "metadata": {},
     "output_type": "execute_result"
    }
   ],
   "source": [
    "tabla1.values[6,0]"
   ]
  },
  {
   "cell_type": "markdown",
   "metadata": {},
   "source": [
    "# ---------------------------------------------------------------------------------------------------------------"
   ]
  },
  {
   "cell_type": "markdown",
   "metadata": {},
   "source": [
    "# 2-Segunda parte de la funcion"
   ]
  },
  {
   "cell_type": "code",
   "execution_count": 13,
   "metadata": {},
   "outputs": [
    {
     "data": {
      "text/latex": [
       "$$\\left ( 530.7, \\quad 535.0\\right )$$"
      ],
      "text/plain": [
       "(530.7, 535.0)"
      ]
     },
     "execution_count": 13,
     "metadata": {},
     "output_type": "execute_result"
    }
   ],
   "source": [
    " dta.values[93,0], dta.values[50,0]"
   ]
  },
  {
   "cell_type": "code",
   "execution_count": 14,
   "metadata": {},
   "outputs": [
    {
     "data": {
      "image/png": "[encoded data removed]",
      "text/plain": [
       "<Figure size 1008x864 with 1 Axes>"
      ]
     },
     "metadata": {
      "needs_background": "light"
     },
     "output_type": "display_data"
    }
   ],
   "source": [
    "plt.figure(figsize=(14,12))\n",
    "yb = dta.values[50:93,1] # El segundo valor dentro del corchete se queda fijo\n",
    "xb = dta.values[50:93,0] \n",
    "plt.plot(xb, yb, 'o', label=\"Datos obtenidos-Segunda Seccion\", ms=5)\n",
    "\n",
    "\n",
    "plt.ylabel('Counts/s')\n",
    "plt.xlabel('Binding Energy(eV)')\n",
    "plt.grid()\n",
    "\n",
    "#-------------------------------------------------------------------------\n",
    "\n",
    "def f_2(xb): #x\n",
    "    return -0.34525625*xb+5350\n",
    "plt.plot(xb, f_2(xb), '-', ms=3)\n",
    "\n",
    "#--------------------------------------------------------------------------\n",
    "\n",
    "def f2(xb, e, f, g, h): \n",
    "    return e*xb**3 + f*xb**2 +g*xb + h \n",
    "\n",
    "#--------------------------------------------------------------------------\n",
    "\n",
    "popt, pcov = curve_fit(f2, xb, yb)\n",
    "\n",
    "\\\n",
    "xd = sp.Symbol('\\lambda')  #xs=xd\n",
    "tex = sp.latex(f1(xd,*popt)).replace('$', '') \n",
    "plt.title(r'$f(\\lambda)= %s$' %(tex),fontsize=16)\n",
    "\n",
    "#-------------------------------------------------------------------------\n",
    "\n",
    "\n",
    "plt.plot(xb, f2(xb, *popt))\n",
    "plt.plot(xb, popt[0]*xb**3 + popt[1]*xb**2 + popt[2]*xb + popt[3], label=\"Curva ajustada\")\n",
    "\n",
    "plt.legend(loc='upper left') \n",
    "plt.show()"
   ]
  },
  {
   "cell_type": "code",
   "execution_count": 15,
   "metadata": {},
   "outputs": [],
   "source": [
    "def montecarlo2(f2_montecarlo , cc, dd, N): ## cc, dd\n",
    "    i=(dd-cc)*np.random.rand(N)+cc #u=i\n",
    "    return (dd-cc)*np.mean(f2_montecarlo(i))"
   ]
  },
  {
   "cell_type": "code",
   "execution_count": 16,
   "metadata": {},
   "outputs": [],
   "source": [
    "def f2_montecarlo(xm2): \n",
    "    return ((10.0890339557076*xm2**3) - (16364.2352554128*xm2**2) + (8845605.2444538*xm2) - (1593477400.80379) + 0.34525625*xm2 - 5350)\n",
    "cc, dd = 530.7, 535\n",
    "N = 100000\n",
    "J = montecarlo2(f2_montecarlo,cc,dd,N) #H=J"
   ]
  },
  {
   "cell_type": "code",
   "execution_count": 17,
   "metadata": {},
   "outputs": [],
   "source": [
    "cc, dd = 530.7, 535\n",
    "N = np.logspace(1, 7, 7)"
   ]
  },
  {
   "cell_type": "code",
   "execution_count": 18,
   "metadata": {},
   "outputs": [
    {
     "data": {
      "text/html": [
       "<div>\n",
       "<style scoped>\n",
       "    .dataframe tbody tr th:only-of-type {\n",
       "        vertical-align: middle;\n",
       "    }\n",
       "\n",
       "    .dataframe tbody tr th {\n",
       "        vertical-align: top;\n",
       "    }\n",
       "\n",
       "    .dataframe thead th {\n",
       "        text-align: right;\n",
       "    }\n",
       "</style>\n",
       "<table border=\"1\" class=\"dataframe\">\n",
       "  <thead>\n",
       "    <tr style=\"text-align: right;\">\n",
       "      <th></th>\n",
       "      <th>Valor de Integrales</th>\n",
       "    </tr>\n",
       "  </thead>\n",
       "  <tbody>\n",
       "    <tr>\n",
       "      <th>10.0</th>\n",
       "      <td>6191.3</td>\n",
       "    </tr>\n",
       "    <tr>\n",
       "      <th>100.0</th>\n",
       "      <td>5517.7</td>\n",
       "    </tr>\n",
       "    <tr>\n",
       "      <th>1000.0</th>\n",
       "      <td>5481.9</td>\n",
       "    </tr>\n",
       "    <tr>\n",
       "      <th>10000.0</th>\n",
       "      <td>5562.65</td>\n",
       "    </tr>\n",
       "    <tr>\n",
       "      <th>100000.0</th>\n",
       "      <td>5544.6</td>\n",
       "    </tr>\n",
       "    <tr>\n",
       "      <th>1000000.0</th>\n",
       "      <td>5542.24</td>\n",
       "    </tr>\n",
       "    <tr>\n",
       "      <th>10000000.0</th>\n",
       "      <td>5541.32</td>\n",
       "    </tr>\n",
       "  </tbody>\n",
       "</table>\n",
       "</div>"
      ],
      "text/plain": [
       "           Valor de Integrales\n",
       "10.0                    6191.3\n",
       "100.0                   5517.7\n",
       "1000.0                  5481.9\n",
       "10000.0                5562.65\n",
       "100000.0                5544.6\n",
       "1000000.0              5542.24\n",
       "10000000.0             5541.32"
      ]
     },
     "execution_count": 18,
     "metadata": {},
     "output_type": "execute_result"
    }
   ],
   "source": [
    "tabla2 = pd.DataFrame(index = N, columns=['Valor de Integrales'])\n",
    "\n",
    "for n in N:\n",
    "    tabla2.loc[n,'Valor de Integrales'] = montecarlo2(f2_montecarlo, cc, dd, n.astype(int))\n",
    "tabla2"
   ]
  },
  {
   "cell_type": "code",
   "execution_count": 19,
   "metadata": {},
   "outputs": [
    {
     "data": {
      "text/latex": [
       "$$5541.322402228141$$"
      ],
      "text/plain": [
       "5541.322402228141"
      ]
     },
     "execution_count": 19,
     "metadata": {},
     "output_type": "execute_result"
    }
   ],
   "source": [
    "tabla2.values[6,0]"
   ]
  },
  {
   "cell_type": "markdown",
   "metadata": {},
   "source": [
    "# ---------------------------------------------------------------------------------------------------------------"
   ]
  },
  {
   "cell_type": "markdown",
   "metadata": {},
   "source": [
    "# 3-Tercera parte de la funcion"
   ]
  },
  {
   "cell_type": "code",
   "execution_count": 20,
   "metadata": {},
   "outputs": [
    {
     "data": {
      "text/latex": [
       "$$\\left ( 534.9, \\quad 540.0\\right )$$"
      ],
      "text/plain": [
       "(534.9, 540.0)"
      ]
     },
     "execution_count": 20,
     "metadata": {},
     "output_type": "execute_result"
    }
   ],
   "source": [
    " dta.values[51,0], dta.values[0,0]"
   ]
  },
  {
   "cell_type": "code",
   "execution_count": 21,
   "metadata": {},
   "outputs": [
    {
     "data": {
      "image/png": "[encoded data removed]",
      "text/plain": [
       "<Figure size 1008x864 with 1 Axes>"
      ]
     },
     "metadata": {
      "needs_background": "light"
     },
     "output_type": "display_data"
    }
   ],
   "source": [
    "plt.figure(figsize=(14,12))\n",
    "yc = dta.values[:51,1] # El segundo valor dentro del corchete se queda fijo\n",
    "xc = dta.values[:51,0] \n",
    "plt.plot(xc, yc, 'o', label=\"Datos obtenidos-Tercera Seccion\", ms=5)\n",
    "\n",
    "\n",
    "plt.ylabel('Counts/s')\n",
    "plt.xlabel('Binding Energy(eV)')\n",
    "plt.grid()\n",
    "\n",
    "#-------------------------------------------------------------------------\n",
    "\n",
    "def f_3(xc): #x\n",
    "    return -0.34525625*xc+5350\n",
    "plt.plot(xc, f_3(xc), '-', ms=3)\n",
    "\n",
    "#--------------------------------------------------------------------------\n",
    "\n",
    "def f3(xc, i, j, k, l): \n",
    "    return i*xc**3 + j*xc**2 +k*xc + l \n",
    "\n",
    "#--------------------------------------------------------------------------\n",
    "\n",
    "popt, pcov = curve_fit(f3, xc, yc)\n",
    "\n",
    "\\\n",
    "xf = sp.Symbol('\\lambda')  #xd=xf\n",
    "tex = sp.latex(f3(xf,*popt)).replace('$', '') \n",
    "plt.title(r'$f(\\lambda)= %s$' %(tex),fontsize=16)\n",
    "\n",
    "#-------------------------------------------------------------------------\n",
    "\n",
    "\n",
    "plt.plot(xc, f3(xc, *popt))\n",
    "plt.plot(xc, popt[0]*xc**3 + popt[1]*xc**2 + popt[2]*xc + popt[3], label=\"Curva ajustada\")\n",
    "\n",
    "plt.legend(loc='upper left') \n",
    "plt.show()"
   ]
  },
  {
   "cell_type": "code",
   "execution_count": 22,
   "metadata": {},
   "outputs": [],
   "source": [
    "def montecarlo3(f3_montecarlo , ee, ff, N): ## ee, ff\n",
    "    o=(ff-ee)*np.random.rand(N)+ee #i=o\n",
    "    return (ff-ee)*np.mean(f3_montecarlo(o))"
   ]
  },
  {
   "cell_type": "code",
   "execution_count": 23,
   "metadata": {},
   "outputs": [],
   "source": [
    "def f3_montecarlo(xm3): \n",
    "    return ((-5.53869234902503*xm3**3) + (8958.21558968353*xm3**2) - (4829609.11599603*xm3) + (867923300.288315) + 0.34525625*xm3 - 5350)\n",
    "ee, ff = 534.9, 540\n",
    "N = 100000\n",
    "J = montecarlo3(f3_montecarlo,ee,ff,N) #H=J"
   ]
  },
  {
   "cell_type": "code",
   "execution_count": 24,
   "metadata": {},
   "outputs": [],
   "source": [
    "cc, dd = 534.9, 540\n",
    "N = np.logspace(1, 7, 7)"
   ]
  },
  {
   "cell_type": "code",
   "execution_count": 25,
   "metadata": {},
   "outputs": [
    {
     "data": {
      "text/html": [
       "<div>\n",
       "<style scoped>\n",
       "    .dataframe tbody tr th:only-of-type {\n",
       "        vertical-align: middle;\n",
       "    }\n",
       "\n",
       "    .dataframe tbody tr th {\n",
       "        vertical-align: top;\n",
       "    }\n",
       "\n",
       "    .dataframe thead th {\n",
       "        text-align: right;\n",
       "    }\n",
       "</style>\n",
       "<table border=\"1\" class=\"dataframe\">\n",
       "  <thead>\n",
       "    <tr style=\"text-align: right;\">\n",
       "      <th></th>\n",
       "      <th>Valor de Integrales</th>\n",
       "    </tr>\n",
       "  </thead>\n",
       "  <tbody>\n",
       "    <tr>\n",
       "      <th>10.0</th>\n",
       "      <td>1278.28</td>\n",
       "    </tr>\n",
       "    <tr>\n",
       "      <th>100.0</th>\n",
       "      <td>1249.99</td>\n",
       "    </tr>\n",
       "    <tr>\n",
       "      <th>1000.0</th>\n",
       "      <td>1263.68</td>\n",
       "    </tr>\n",
       "    <tr>\n",
       "      <th>10000.0</th>\n",
       "      <td>1250.05</td>\n",
       "    </tr>\n",
       "    <tr>\n",
       "      <th>100000.0</th>\n",
       "      <td>1251.74</td>\n",
       "    </tr>\n",
       "    <tr>\n",
       "      <th>1000000.0</th>\n",
       "      <td>1252.33</td>\n",
       "    </tr>\n",
       "    <tr>\n",
       "      <th>10000000.0</th>\n",
       "      <td>1251.78</td>\n",
       "    </tr>\n",
       "  </tbody>\n",
       "</table>\n",
       "</div>"
      ],
      "text/plain": [
       "           Valor de Integrales\n",
       "10.0                   1278.28\n",
       "100.0                  1249.99\n",
       "1000.0                 1263.68\n",
       "10000.0                1250.05\n",
       "100000.0               1251.74\n",
       "1000000.0              1252.33\n",
       "10000000.0             1251.78"
      ]
     },
     "execution_count": 25,
     "metadata": {},
     "output_type": "execute_result"
    }
   ],
   "source": [
    "tabla3 = pd.DataFrame(index = N, columns=['Valor de Integrales'])\n",
    "\n",
    "for n in N:\n",
    "    tabla3.loc[n,'Valor de Integrales'] = montecarlo3(f3_montecarlo, ee, ff, n.astype(int))\n",
    "tabla3"
   ]
  },
  {
   "cell_type": "code",
   "execution_count": 26,
   "metadata": {},
   "outputs": [
    {
     "data": {
      "text/latex": [
       "$$1251.7812468113689$$"
      ],
      "text/plain": [
       "1251.7812468113689"
      ]
     },
     "execution_count": 26,
     "metadata": {},
     "output_type": "execute_result"
    }
   ],
   "source": [
    "tabla3.values[6,0]"
   ]
  },
  {
   "cell_type": "markdown",
   "metadata": {},
   "source": [
    "# --------------------------------------------------------------------------------------------------------------"
   ]
  },
  {
   "cell_type": "markdown",
   "metadata": {},
   "source": [
    "# El area total de la curva respecto a la segunda funcion es la siguiente."
   ]
  },
  {
   "cell_type": "markdown",
   "metadata": {},
   "source": [
    "# Area 1"
   ]
  },
  {
   "cell_type": "code",
   "execution_count": 27,
   "metadata": {},
   "outputs": [
    {
     "data": {
      "text/latex": [
       "$$8172.052024278766$$"
      ],
      "text/plain": [
       "8172.052024278766"
      ]
     },
     "execution_count": 27,
     "metadata": {},
     "output_type": "execute_result"
    }
   ],
   "source": [
    "Area_total = tabla1.values[6,0] + tabla2.values[6,0]  + tabla3.values[6,0] \n",
    "Area_total"
   ]
  },
  {
   "cell_type": "markdown",
   "metadata": {},
   "source": [
    "# --------------------------------------------------------------------------------------------------------------"
   ]
  },
  {
   "cell_type": "code",
   "execution_count": null,
   "metadata": {},
   "outputs": [],
   "source": []
  }
 ],
 "metadata": {
  "kernelspec": {
   "display_name": "Python 3",
   "language": "python",
   "name": "python3"
  },
  "language_info": {
   "codemirror_mode": {
    "name": "ipython",
    "version": 3
   },
   "file_extension": ".py",
   "mimetype": "text/x-python",
   "name": "python",
   "nbconvert_exporter": "python",
   "pygments_lexer": "ipython3",
   "version": "3.7.0"
  }
 },
 "nbformat": 4,
 "nbformat_minor": 2
}
